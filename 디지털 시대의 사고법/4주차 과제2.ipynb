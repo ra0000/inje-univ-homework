{
 "cells": [
  {
   "cell_type": "markdown",
   "metadata": {},
   "source": [
    "### 1.1 변수 text에 'year:2022 month:9 day:1’ 저장 (text = 'year:2023 month:9 day:1’)"
   ]
  },
  {
   "cell_type": "code",
   "execution_count": 48,
   "metadata": {},
   "outputs": [
    {
     "name": "stdout",
     "output_type": "stream",
     "text": [
      "year:2022 month:9 day:1\n"
     ]
    }
   ],
   "source": [
    "text = 'year:2022 month:9 day:1'\n",
    "print(text)"
   ]
  },
  {
   "cell_type": "markdown",
   "metadata": {},
   "source": [
    "###  1.2 split() 메소드를 사용해서 text 변수의 공백 부분을 기준으로 분할하고 분할된'year:2022’ ,  ‘month:9’ ,  ‘day:1’ 를 year, month, day 이름의 변수에 저장"
   ]
  },
  {
   "cell_type": "code",
   "execution_count": 49,
   "metadata": {},
   "outputs": [
    {
     "name": "stdout",
     "output_type": "stream",
     "text": [
      "year:2022 month:9 day:1\n"
     ]
    }
   ],
   "source": [
    "year, month, day = text.split()\n",
    "print(year, month, day)"
   ]
  },
  {
   "cell_type": "markdown",
   "metadata": {},
   "source": [
    "### 1.3 find() 메소드를 사용해서 year 변수의 ‘:‘ 위치를 찾고 그 위치를 idx_y에 저장"
   ]
  },
  {
   "cell_type": "code",
   "execution_count": 50,
   "metadata": {},
   "outputs": [
    {
     "name": "stdout",
     "output_type": "stream",
     "text": [
      "4\n"
     ]
    }
   ],
   "source": [
    "idx_y = year.find(':')\n",
    "print(idx_y)"
   ]
  },
  {
   "cell_type": "markdown",
   "metadata": {},
   "source": [
    "### 1.4 idx_y와 문자열 슬라이스를 활용해서 year의 ‘2022’만 추출 후 Y라는 변수로 저장"
   ]
  },
  {
   "cell_type": "code",
   "execution_count": 51,
   "metadata": {},
   "outputs": [
    {
     "name": "stdout",
     "output_type": "stream",
     "text": [
      "2022\n"
     ]
    }
   ],
   "source": [
    "Y = year[idx_y+1:]\n",
    "print(Y)"
   ]
  },
  {
   "cell_type": "markdown",
   "metadata": {},
   "source": [
    "### 1.5 1.3~1.4 과정을 month와 day에 대하여 수행- find()를 통해 추출한 month와 day에서의 ‘:’ 위치 값: idx_m, idx_d 에 저장- 문자열슬라이스로‘9’, ‘1’을 추출하고 M, D 변수에 각각 저장"
   ]
  },
  {
   "cell_type": "code",
   "execution_count": 52,
   "metadata": {},
   "outputs": [
    {
     "name": "stdout",
     "output_type": "stream",
     "text": [
      "9\n",
      "1\n"
     ]
    }
   ],
   "source": [
    "idx_m = month.find(':')\n",
    "M = month[idx_m+1:]\n",
    "print(M)\n",
    "\n",
    "idx_d = day.find(':')\n",
    "D = day[idx_d+1:]\n",
    "print(D)"
   ]
  },
  {
   "cell_type": "markdown",
   "metadata": {},
   "source": [
    "### 1.6 isdigit() 메소드를 사용해서 Y, M, D가 숫자로만 구성되어 있는지 확인 "
   ]
  },
  {
   "cell_type": "code",
   "execution_count": 53,
   "metadata": {},
   "outputs": [
    {
     "name": "stdout",
     "output_type": "stream",
     "text": [
      "Y가 숫자로만?: True, M이 숫자로만?: True, D가 숫자로만?: True\n"
     ]
    }
   ],
   "source": [
    "y_is_digit, m_is_digit, d_is_digit = Y.isdigit(), M.isdigit(), D.isdigit()\n",
    "\n",
    "print('Y가 숫자로만?: {}, M이 숫자로만?: {}, D가 숫자로만?: {}'.format(y_is_digit, m_is_digit, d_is_digit))"
   ]
  },
  {
   "cell_type": "markdown",
   "metadata": {},
   "source": [
    "### 1.7 zfill() 메소드를 사용해서 Y, M, D에 0을 채워 각각 4, 2, 2 자릿수를 갖도록 구성\n",
    "### 예) ‘9’  → ’09’"
   ]
  },
  {
   "cell_type": "code",
   "execution_count": 54,
   "metadata": {},
   "outputs": [
    {
     "name": "stdout",
     "output_type": "stream",
     "text": [
      "zfill Y: 2022, zfill M: 09, zfill D: 01\n"
     ]
    }
   ],
   "source": [
    "\n",
    "y_zfilled, m_zfilled, d_zfilled = Y.zfill(4), M.zfill(2), D.zfill(2)\n",
    "print('zfill Y: {}, zfill M: {}, zfill D: {}'.format(y_zfilled, m_zfilled, d_zfilled))"
   ]
  },
  {
   "cell_type": "markdown",
   "metadata": {},
   "source": [
    "### 1.8 format() 메소드를 사용해서 print를 통해 아래와 같은 결과 출력\n",
    "### 예) print(‘오늘의 날짜는 ??년 ??월 ??일 입니다.’???????(???,???,???)"
   ]
  },
  {
   "cell_type": "code",
   "execution_count": 55,
   "metadata": {},
   "outputs": [
    {
     "name": "stdout",
     "output_type": "stream",
     "text": [
      "오늘의 날짜는 2022년 09월 01일 입니다.\n"
     ]
    }
   ],
   "source": [
    "y_2zfilled = Y.zfill(2)\n",
    "print('오늘의 날짜는 {}년 {}월 {}일 입니다.'.format(y_2zfilled, m_zfilled, d_zfilled))"
   ]
  },
  {
   "cell_type": "markdown",
   "metadata": {},
   "source": [
    "### 1.9 replace() 메소드를 사용해서 Y, M, D를 오늘 날짜로 변환 후 1.8 수행"
   ]
  },
  {
   "cell_type": "code",
   "execution_count": 56,
   "metadata": {},
   "outputs": [
    {
     "name": "stdout",
     "output_type": "stream",
     "text": [
      "오늘의 날짜는 2025년 03월 24일 입니다.\n"
     ]
    }
   ],
   "source": [
    "y_2zfilled, m_zfilled, d_zfilled = y_2zfilled.replace('22', '25'), m_zfilled.replace('09', '03'), d_zfilled.replace('01', '24')\n",
    "print('오늘의 날짜는 {}년 {}월 {}일 입니다.'.format(y_2zfilled, m_zfilled, d_zfilled))"
   ]
  }
 ],
 "metadata": {
  "kernelspec": {
   "display_name": "Python 3",
   "language": "python",
   "name": "python3"
  },
  "language_info": {
   "codemirror_mode": {
    "name": "ipython",
    "version": 3
   },
   "file_extension": ".py",
   "mimetype": "text/x-python",
   "name": "python",
   "nbconvert_exporter": "python",
   "pygments_lexer": "ipython3",
   "version": "3.11.9"
  }
 },
 "nbformat": 4,
 "nbformat_minor": 2
}
