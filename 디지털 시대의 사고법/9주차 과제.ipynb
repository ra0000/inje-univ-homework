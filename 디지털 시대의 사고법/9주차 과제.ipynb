{
 "cells": [
  {
   "cell_type": "markdown",
   "metadata": {},
   "source": [
    "## 예제 : python 의 각 문자를 문자열로 튜플 (변수명 tu1) 로 저장"
   ]
  },
  {
   "cell_type": "code",
   "execution_count": 1,
   "metadata": {},
   "outputs": [],
   "source": [
    "tu1 = (\"p\", \"y\", \"t\", \"h\", \"o\", \"n\")"
   ]
  },
  {
   "cell_type": "markdown",
   "metadata": {},
   "source": [
    "## 예제 : python 의 각 문자를 문자열로\n",
    "- 튜플 (변수명 tu1) 로 저장\n",
    "- 리스트 (변수명 li1) 로 저장\n",
    "- del tu1[0] 해보기  → 결과?\n",
    "- del li1[0] 해보기   → 결과?\n",
    "- tu1[0] = ‘P’ 해보기  → 결과?\n",
    "- li1[0] = ‘P’ 해보기   → 결과?"
   ]
  },
  {
   "cell_type": "code",
   "execution_count": 3,
   "metadata": {},
   "outputs": [],
   "source": [
    "tu1 = (\"p\", \"y\", \"t\", \"h\", \"o\", \"n\")\n",
    "li1 = [\"p\", \"y\", \"t\", \"h\", \"o\", \"n\"]"
   ]
  },
  {
   "cell_type": "code",
   "execution_count": 5,
   "metadata": {},
   "outputs": [
    {
     "ename": "TypeError",
     "evalue": "'tuple' object doesn't support item deletion",
     "output_type": "error",
     "traceback": [
      "\u001b[31m---------------------------------------------------------------------------\u001b[39m",
      "\u001b[31mTypeError\u001b[39m                                 Traceback (most recent call last)",
      "\u001b[36mCell\u001b[39m\u001b[36m \u001b[39m\u001b[32mIn[5]\u001b[39m\u001b[32m, line 1\u001b[39m\n\u001b[32m----> \u001b[39m\u001b[32m1\u001b[39m \u001b[38;5;28;01mdel\u001b[39;00m \u001b[43mtu1\u001b[49m\u001b[43m[\u001b[49m\u001b[32;43m0\u001b[39;49m\u001b[43m]\u001b[49m\n",
      "\u001b[31mTypeError\u001b[39m: 'tuple' object doesn't support item deletion"
     ]
    }
   ],
   "source": [
    "del tu1[0]"
   ]
  },
  {
   "cell_type": "code",
   "execution_count": 4,
   "metadata": {},
   "outputs": [],
   "source": [
    "del li1[0]"
   ]
  },
  {
   "cell_type": "code",
   "execution_count": 6,
   "metadata": {},
   "outputs": [
    {
     "ename": "TypeError",
     "evalue": "'tuple' object does not support item assignment",
     "output_type": "error",
     "traceback": [
      "\u001b[31m---------------------------------------------------------------------------\u001b[39m",
      "\u001b[31mTypeError\u001b[39m                                 Traceback (most recent call last)",
      "\u001b[36mCell\u001b[39m\u001b[36m \u001b[39m\u001b[32mIn[6]\u001b[39m\u001b[32m, line 1\u001b[39m\n\u001b[32m----> \u001b[39m\u001b[32m1\u001b[39m \u001b[43mtu1\u001b[49m\u001b[43m[\u001b[49m\u001b[32;43m0\u001b[39;49m\u001b[43m]\u001b[49m = \u001b[33m\"\u001b[39m\u001b[33mP\u001b[39m\u001b[33m\"\u001b[39m\n",
      "\u001b[31mTypeError\u001b[39m: 'tuple' object does not support item assignment"
     ]
    }
   ],
   "source": [
    "tu1[0] = \"P\""
   ]
  },
  {
   "cell_type": "code",
   "execution_count": 7,
   "metadata": {},
   "outputs": [],
   "source": [
    "li1[0] = \"P\""
   ]
  },
  {
   "cell_type": "markdown",
   "metadata": {},
   "source": [
    "## 예제 : python 의 각 문자를 문자열로 튜플 (변수명 tu1) 로 저장\n",
    "- tu1[0] 출력 결과 확인하기  → 결과 ??\n",
    "- tu1[3] 출력 결과 확인하기  → 결과 ??\n",
    "- tu1[-1] 출력 결과 확인하기  → 결과 ??"
   ]
  },
  {
   "cell_type": "code",
   "execution_count": 8,
   "metadata": {},
   "outputs": [],
   "source": [
    "tu1 = (\"p\", \"y\", \"t\", \"h\", \"o\", \"n\")"
   ]
  },
  {
   "cell_type": "code",
   "execution_count": 9,
   "metadata": {},
   "outputs": [
    {
     "name": "stdout",
     "output_type": "stream",
     "text": [
      "p\n"
     ]
    }
   ],
   "source": [
    "print(tu1[0])"
   ]
  },
  {
   "cell_type": "code",
   "execution_count": 10,
   "metadata": {},
   "outputs": [
    {
     "name": "stdout",
     "output_type": "stream",
     "text": [
      "h\n"
     ]
    }
   ],
   "source": [
    "print(tu1[3])"
   ]
  },
  {
   "cell_type": "code",
   "execution_count": 11,
   "metadata": {},
   "outputs": [
    {
     "name": "stdout",
     "output_type": "stream",
     "text": [
      "n\n"
     ]
    }
   ],
   "source": [
    "print(tu1[-1])"
   ]
  },
  {
   "cell_type": "markdown",
   "metadata": {},
   "source": [
    "## 예제 : python 의 각 문자를 문자열로 튜플 (변수명 tu1) 로 저장\n",
    "- tu1[0:2] 출력 결과 확인하기  → 결과 ??\n",
    "- tu1[3:] 출력 결과 확인하기  → 결과 ??\n",
    "- tu1[:4] 출력 결과 확인하기  → 결과 ??"
   ]
  },
  {
   "cell_type": "code",
   "execution_count": 12,
   "metadata": {},
   "outputs": [],
   "source": [
    "tu1 = (\"p\", \"y\", \"t\", \"h\", \"o\", \"n\")"
   ]
  },
  {
   "cell_type": "code",
   "execution_count": 13,
   "metadata": {},
   "outputs": [
    {
     "name": "stdout",
     "output_type": "stream",
     "text": [
      "('p', 'y')\n"
     ]
    }
   ],
   "source": [
    "print(tu1[0:2])"
   ]
  },
  {
   "cell_type": "code",
   "execution_count": 14,
   "metadata": {},
   "outputs": [
    {
     "name": "stdout",
     "output_type": "stream",
     "text": [
      "('h', 'o', 'n')\n"
     ]
    }
   ],
   "source": [
    "print(tu1[3:])"
   ]
  },
  {
   "cell_type": "code",
   "execution_count": 15,
   "metadata": {},
   "outputs": [
    {
     "name": "stdout",
     "output_type": "stream",
     "text": [
      "('p', 'y', 't', 'h')\n"
     ]
    }
   ],
   "source": [
    "print(tu1[:4])"
   ]
  },
  {
   "cell_type": "markdown",
   "metadata": {},
   "source": [
    "## 예제 : \n",
    "- python 의 각 문자를 문자열로 튜플 (변수명 tu1) 로 저장\n",
    "- program 의 각 문자를 문자열로 튜플 (변수명 tu2) 로 저장\n",
    "- tu1 + tu2 출력 결과 확인하기 → 결과??\n",
    "- tu1 * 3 출력 결과 확인하기  → 결과 ??\n",
    "- tu1[0] + tu2[1] 출력 결과 확인하기  → 결과 ??"
   ]
  },
  {
   "cell_type": "code",
   "execution_count": 16,
   "metadata": {},
   "outputs": [],
   "source": [
    "tu1 = (\"p\", \"y\", \"t\", \"h\", \"o\", \"n\")\n",
    "tu2 = (\"p\", \"r\", \"o\", \"g\", \"r\", \"a\", \"m\")"
   ]
  },
  {
   "cell_type": "code",
   "execution_count": 17,
   "metadata": {},
   "outputs": [
    {
     "name": "stdout",
     "output_type": "stream",
     "text": [
      "('p', 'y', 't', 'h', 'o', 'n', 'p', 'r', 'o', 'g', 'r', 'a', 'm')\n"
     ]
    }
   ],
   "source": [
    "print(tu1 + tu2)"
   ]
  },
  {
   "cell_type": "code",
   "execution_count": 18,
   "metadata": {},
   "outputs": [
    {
     "name": "stdout",
     "output_type": "stream",
     "text": [
      "('p', 'y', 't', 'h', 'o', 'n', 'p', 'y', 't', 'h', 'o', 'n', 'p', 'y', 't', 'h', 'o', 'n')\n"
     ]
    }
   ],
   "source": [
    "print(tu1 * 3)"
   ]
  },
  {
   "cell_type": "code",
   "execution_count": 19,
   "metadata": {},
   "outputs": [
    {
     "name": "stdout",
     "output_type": "stream",
     "text": [
      "pr\n"
     ]
    }
   ],
   "source": [
    "print(tu1[0] + tu2[1])"
   ]
  },
  {
   "cell_type": "markdown",
   "metadata": {},
   "source": [
    "## 예제 : \n",
    "- 1,2,3,4 의 각 숫자를 숫자형으로 튜플 (변수명 tu3) 로 저장\n",
    "- 5,6,7,8 의 각 숫자를 숫자형으로 튜플 (변수명 tu4) 로 저장\n",
    "- tu1 + tu2 출력 결과 확인하기 → 결과??\n",
    "- tu1 * 3 출력 결과 확인하기  → 결과 ??\n",
    "- tu1[0] + tu2[1] 출력 결과 확인하기  → 결과 ??"
   ]
  },
  {
   "cell_type": "code",
   "execution_count": 20,
   "metadata": {},
   "outputs": [],
   "source": [
    "tu3 = (1, 2, 3, 4)\n",
    "tu4 = (5, 6, 7, 8)"
   ]
  },
  {
   "cell_type": "code",
   "execution_count": 23,
   "metadata": {},
   "outputs": [
    {
     "name": "stdout",
     "output_type": "stream",
     "text": [
      "(1, 2, 3, 4, 5, 6, 7, 8)\n"
     ]
    }
   ],
   "source": [
    "print(tu3 + tu4)"
   ]
  },
  {
   "cell_type": "code",
   "execution_count": 24,
   "metadata": {},
   "outputs": [
    {
     "name": "stdout",
     "output_type": "stream",
     "text": [
      "(1, 2, 3, 4, 1, 2, 3, 4, 1, 2, 3, 4)\n"
     ]
    }
   ],
   "source": [
    "print(tu3 * 3)"
   ]
  },
  {
   "cell_type": "code",
   "execution_count": 25,
   "metadata": {},
   "outputs": [
    {
     "name": "stdout",
     "output_type": "stream",
     "text": [
      "7\n"
     ]
    }
   ],
   "source": [
    "print(tu3[0] + tu4[1])"
   ]
  },
  {
   "cell_type": "markdown",
   "metadata": {},
   "source": [
    "## 예제 : \n",
    "- python 의 각 문자를 문자열로 튜플 (변수명 tu1) 로 저장\n",
    "- program 의 각 문자를 문자열로 튜플 (변수명 tu2) 로 저장\n",
    "1. tu1 + tu2 출력 결과를 tu3에 저장하기\n",
    "2. tu1에서 ‘p’의 위치 찾기\n",
    "3. tu3에서 ‘p’의 위치 찾기\n",
    "4. tu3[1:]에서 ‘p’의 위치 찾기\n",
    "5. tu3 에서 ‘z’의 위치 찾기\n",
    "6. ‘a’가 tu3에 있는지 판별하기\n",
    "7. ‘b’가 tu3에 있는지 판별하기\n"
   ]
  },
  {
   "cell_type": "code",
   "execution_count": 26,
   "metadata": {},
   "outputs": [],
   "source": [
    "tu1 = (\"p\", \"y\", \"t\", \"h\", \"o\", \"n\")\n",
    "tu2 = (\"p\", \"r\", \"o\", \"g\", \"r\", \"a\", \"m\")"
   ]
  },
  {
   "cell_type": "code",
   "execution_count": 27,
   "metadata": {},
   "outputs": [],
   "source": [
    "tu3 = tu1 + tu2"
   ]
  },
  {
   "cell_type": "code",
   "execution_count": 28,
   "metadata": {},
   "outputs": [
    {
     "name": "stdout",
     "output_type": "stream",
     "text": [
      "0\n"
     ]
    }
   ],
   "source": [
    "print(tu1.index(\"p\"))"
   ]
  },
  {
   "cell_type": "code",
   "execution_count": 29,
   "metadata": {},
   "outputs": [
    {
     "name": "stdout",
     "output_type": "stream",
     "text": [
      "0\n"
     ]
    }
   ],
   "source": [
    "print(tu3.index(\"p\"))"
   ]
  },
  {
   "cell_type": "code",
   "execution_count": 30,
   "metadata": {},
   "outputs": [
    {
     "name": "stdout",
     "output_type": "stream",
     "text": [
      "5\n"
     ]
    }
   ],
   "source": [
    "print(tu3[1:].index(\"p\"))"
   ]
  },
  {
   "cell_type": "code",
   "execution_count": 31,
   "metadata": {},
   "outputs": [
    {
     "ename": "ValueError",
     "evalue": "tuple.index(x): x not in tuple",
     "output_type": "error",
     "traceback": [
      "\u001b[31m---------------------------------------------------------------------------\u001b[39m",
      "\u001b[31mValueError\u001b[39m                                Traceback (most recent call last)",
      "\u001b[36mCell\u001b[39m\u001b[36m \u001b[39m\u001b[32mIn[31]\u001b[39m\u001b[32m, line 1\u001b[39m\n\u001b[32m----> \u001b[39m\u001b[32m1\u001b[39m \u001b[43mtu3\u001b[49m\u001b[43m.\u001b[49m\u001b[43mindex\u001b[49m\u001b[43m(\u001b[49m\u001b[33;43m\"\u001b[39;49m\u001b[33;43mz\u001b[39;49m\u001b[33;43m\"\u001b[39;49m\u001b[43m)\u001b[49m\n",
      "\u001b[31mValueError\u001b[39m: tuple.index(x): x not in tuple"
     ]
    }
   ],
   "source": [
    "tu3.index(\"z\")"
   ]
  },
  {
   "cell_type": "code",
   "execution_count": 34,
   "metadata": {},
   "outputs": [
    {
     "name": "stdout",
     "output_type": "stream",
     "text": [
      "True\n"
     ]
    }
   ],
   "source": [
    "print(\"a\" in tu3)"
   ]
  },
  {
   "cell_type": "code",
   "execution_count": 35,
   "metadata": {},
   "outputs": [
    {
     "name": "stdout",
     "output_type": "stream",
     "text": [
      "False\n"
     ]
    }
   ],
   "source": [
    "print(\"b\" in tu3)"
   ]
  },
  {
   "cell_type": "markdown",
   "metadata": {},
   "source": [
    "## 예제 : \n",
    "- python 의 각 문자를 문자열로 튜플 (변수명 tu1) 로 저장\n",
    "- program 의 각 문자를 문자열로 튜플 (변수명 tu2) 로 저장\n",
    "1. tu1 + tu2 출력 결과를 tu3에 저장하기\n",
    "2. tu1, tu2, tu3의 전체 요소 수 구하기\n",
    "3. tu1, tu2, tu3에서 ‘p’의 개수 구하기"
   ]
  },
  {
   "cell_type": "code",
   "execution_count": 43,
   "metadata": {},
   "outputs": [],
   "source": [
    "tu1 = (\"p\", \"y\", \"t\", \"h\", \"o\", \"n\")\n",
    "tu2 = (\"p\", \"r\", \"o\", \"g\", \"r\", \"a\", \"m\")"
   ]
  },
  {
   "cell_type": "code",
   "execution_count": 44,
   "metadata": {},
   "outputs": [],
   "source": [
    "tu3 = tu1 + tu2"
   ]
  },
  {
   "cell_type": "code",
   "execution_count": 45,
   "metadata": {},
   "outputs": [
    {
     "name": "stdout",
     "output_type": "stream",
     "text": [
      "6\n",
      "7\n",
      "13\n"
     ]
    }
   ],
   "source": [
    "print(len(tu1))\n",
    "print(len(tu2))\n",
    "print(len(tu3))"
   ]
  },
  {
   "cell_type": "code",
   "execution_count": 46,
   "metadata": {},
   "outputs": [
    {
     "name": "stdout",
     "output_type": "stream",
     "text": [
      "1\n",
      "1\n",
      "2\n"
     ]
    }
   ],
   "source": [
    "print(tu1.count(\"p\"))\n",
    "print(tu2.count(\"p\"))\n",
    "print(tu3.count(\"p\"))"
   ]
  },
  {
   "cell_type": "markdown",
   "metadata": {},
   "source": [
    "## 예제 :\n",
    "- 숫자 1, 2를 num 이라는 튜플에 저장\n",
    "- a, b = num 을 한 후 a와 b의 결과 확인\n",
    "- a와 b값을 교환하기 위해서 \n",
    "b = a\n",
    " a = b\n",
    "라고 입력해서 실행한 후 a 와 b의 값 확인\n",
    "- a와 b값을 교환하기 위해서 \n",
    "a, b = num\n",
    " c = a\n",
    " a = b\n",
    " b = c\n",
    "라고 입력해서 실행한 후 a 와 b의 값 확인\n",
    "- a와 b값을 교환하기 위해서 \n",
    "(a, b) = (b, a)\n",
    "라고 입력해서 실행한 후 a와 b의 값 확인\n"
   ]
  },
  {
   "cell_type": "code",
   "execution_count": 47,
   "metadata": {},
   "outputs": [],
   "source": [
    "num = (1, 2)"
   ]
  },
  {
   "cell_type": "code",
   "execution_count": 48,
   "metadata": {},
   "outputs": [],
   "source": [
    "a, b = num"
   ]
  },
  {
   "cell_type": "code",
   "execution_count": 49,
   "metadata": {},
   "outputs": [
    {
     "name": "stdout",
     "output_type": "stream",
     "text": [
      "1\n",
      "2\n"
     ]
    }
   ],
   "source": [
    "print(a)\n",
    "print(b)"
   ]
  },
  {
   "cell_type": "code",
   "execution_count": 50,
   "metadata": {},
   "outputs": [],
   "source": [
    "b = a\n",
    "a = b"
   ]
  },
  {
   "cell_type": "code",
   "execution_count": 51,
   "metadata": {},
   "outputs": [
    {
     "name": "stdout",
     "output_type": "stream",
     "text": [
      "1\n",
      "1\n"
     ]
    }
   ],
   "source": [
    "print(a)\n",
    "print(b)"
   ]
  },
  {
   "cell_type": "code",
   "execution_count": 52,
   "metadata": {},
   "outputs": [],
   "source": [
    "a, b = num\n",
    "c = a\n",
    "a = b\n",
    "b = c"
   ]
  },
  {
   "cell_type": "code",
   "execution_count": 53,
   "metadata": {},
   "outputs": [
    {
     "name": "stdout",
     "output_type": "stream",
     "text": [
      "2\n",
      "1\n"
     ]
    }
   ],
   "source": [
    "print(a)\n",
    "print(b)"
   ]
  },
  {
   "cell_type": "code",
   "execution_count": 54,
   "metadata": {},
   "outputs": [],
   "source": [
    "(a, b) = (b, a)"
   ]
  },
  {
   "cell_type": "code",
   "execution_count": 56,
   "metadata": {},
   "outputs": [
    {
     "name": "stdout",
     "output_type": "stream",
     "text": [
      "1\n",
      "2\n"
     ]
    }
   ],
   "source": [
    "print(a)\n",
    "print(b)"
   ]
  },
  {
   "cell_type": "markdown",
   "metadata": {},
   "source": [
    "## 예제 : \n",
    "1.1. ‘python program’ 이라는 문자열 (변수명 str1) 으로 저장\n",
    "\n",
    "1.2. 문자열 str1 을 세트 (변수명 se1) 로 저장\n",
    "\n",
    "→str1과 se1 비교\n",
    "\n",
    "2.1. 1, 2, 3, 1, 2, 3을 숫자형으로 리스트 (변수명 li1) 로 저장\n",
    "\n",
    "2.2. 리스트 li1를 세트 (변수명 se2) 로 저장\n",
    "\n",
    "→li1과 se2 비교\n"
   ]
  },
  {
   "cell_type": "code",
   "execution_count": 74,
   "metadata": {},
   "outputs": [],
   "source": [
    "str1 = \"python program\"\n",
    "se1 = set(str1)"
   ]
  },
  {
   "cell_type": "code",
   "execution_count": 75,
   "metadata": {},
   "outputs": [
    {
     "name": "stdout",
     "output_type": "stream",
     "text": [
      "python program\n",
      "{' ', 'n', 'r', 'o', 'g', 't', 'y', 'a', 'm', 'h', 'p'}\n"
     ]
    }
   ],
   "source": [
    "print(str1)\n",
    "print(se1)"
   ]
  },
  {
   "cell_type": "code",
   "execution_count": 63,
   "metadata": {},
   "outputs": [],
   "source": [
    "li1 = [1, 2, 3, 1, 2, 3]\n",
    "se2 = set(li1)"
   ]
  },
  {
   "cell_type": "code",
   "execution_count": 64,
   "metadata": {},
   "outputs": [
    {
     "name": "stdout",
     "output_type": "stream",
     "text": [
      "[1, 2, 3, 1, 2, 3]\n",
      "{1, 2, 3}\n"
     ]
    }
   ],
   "source": [
    "print(li1)\n",
    "print(se2)"
   ]
  },
  {
   "cell_type": "markdown",
   "metadata": {},
   "source": [
    "## 예제 : \n",
    "- 1, 2, 3, 1, 2, 3을 숫자형으로 리스트 (변수명 li1) 로 저장\n",
    "- 리스트 li1를 세트 (변수명 se2) 로 저장\n",
    "\n",
    "1.1. se2[0] 시도 → 결과??\n",
    "\n",
    "1.2. 세트 se2를 리스트 (변수명 li2)로 변환\n",
    "→li1과 li2 비교\n",
    "\n",
    "1.3. li2[0] 시도 → 결과??"
   ]
  },
  {
   "cell_type": "code",
   "execution_count": 65,
   "metadata": {},
   "outputs": [],
   "source": [
    "li1 = [1, 2, 3, 1, 2, 3]"
   ]
  },
  {
   "cell_type": "code",
   "execution_count": 66,
   "metadata": {},
   "outputs": [],
   "source": [
    "se2 = set(li1)"
   ]
  },
  {
   "cell_type": "code",
   "execution_count": 68,
   "metadata": {},
   "outputs": [
    {
     "ename": "TypeError",
     "evalue": "'set' object is not subscriptable",
     "output_type": "error",
     "traceback": [
      "\u001b[31m---------------------------------------------------------------------------\u001b[39m",
      "\u001b[31mTypeError\u001b[39m                                 Traceback (most recent call last)",
      "\u001b[36mCell\u001b[39m\u001b[36m \u001b[39m\u001b[32mIn[68]\u001b[39m\u001b[32m, line 1\u001b[39m\n\u001b[32m----> \u001b[39m\u001b[32m1\u001b[39m \u001b[38;5;28mprint\u001b[39m(\u001b[43mse2\u001b[49m\u001b[43m[\u001b[49m\u001b[32;43m0\u001b[39;49m\u001b[43m]\u001b[49m)\n",
      "\u001b[31mTypeError\u001b[39m: 'set' object is not subscriptable"
     ]
    }
   ],
   "source": [
    "print(se2[0])"
   ]
  },
  {
   "cell_type": "code",
   "execution_count": 69,
   "metadata": {},
   "outputs": [],
   "source": [
    "li2 = list(se2)"
   ]
  },
  {
   "cell_type": "code",
   "execution_count": 70,
   "metadata": {},
   "outputs": [
    {
     "name": "stdout",
     "output_type": "stream",
     "text": [
      "{1, 2, 3}\n",
      "[1, 2, 3]\n"
     ]
    }
   ],
   "source": [
    "print(se2)\n",
    "print(li2)"
   ]
  },
  {
   "cell_type": "code",
   "execution_count": 71,
   "metadata": {},
   "outputs": [
    {
     "name": "stdout",
     "output_type": "stream",
     "text": [
      "1\n"
     ]
    }
   ],
   "source": [
    "print(li2[0])"
   ]
  },
  {
   "cell_type": "markdown",
   "metadata": {},
   "source": [
    "## 예제 : \n",
    "- 1, 2, 3을 숫자형으로 리스트 (변수명 li1) 로 저장\n",
    "- 리스트 li1를 세트 (변수명 se1) 로 저장\n",
    "- 3, 4, 5을 숫자형으로 리스트 (변수명 li2) 로 저장\n",
    "- 리스트 li2를 세트 (변수명 se2) 로 저장\n",
    "1. 세트 se1과 se2의 합집합 구하기 : {1,2,3,4,5}\n",
    "\n",
    " →se1 + se2 시도 : 결과 ??\n",
    "\n",
    " 2. 세트 se1과 se2의 교집합 구하기 : {3}\n",
    "\n",
    " 3. 세트 se1과 se2의 차집합 구하기 : {1,2}\n"
   ]
  },
  {
   "cell_type": "code",
   "execution_count": 76,
   "metadata": {},
   "outputs": [],
   "source": [
    "li1 = [1, 2, 3]\n",
    "se1 = set(li1)\n",
    "li2 = [3, 4, 5]\n",
    "se2 = set(li2)"
   ]
  },
  {
   "cell_type": "code",
   "execution_count": 78,
   "metadata": {},
   "outputs": [
    {
     "name": "stdout",
     "output_type": "stream",
     "text": [
      "{1, 2, 3, 4, 5}\n"
     ]
    }
   ],
   "source": [
    "print(se1 | se2)"
   ]
  },
  {
   "cell_type": "code",
   "execution_count": 79,
   "metadata": {},
   "outputs": [
    {
     "ename": "TypeError",
     "evalue": "unsupported operand type(s) for +: 'set' and 'set'",
     "output_type": "error",
     "traceback": [
      "\u001b[31m---------------------------------------------------------------------------\u001b[39m",
      "\u001b[31mTypeError\u001b[39m                                 Traceback (most recent call last)",
      "\u001b[36mCell\u001b[39m\u001b[36m \u001b[39m\u001b[32mIn[79]\u001b[39m\u001b[32m, line 1\u001b[39m\n\u001b[32m----> \u001b[39m\u001b[32m1\u001b[39m \u001b[38;5;28mprint\u001b[39m(\u001b[43mse1\u001b[49m\u001b[43m \u001b[49m\u001b[43m+\u001b[49m\u001b[43m \u001b[49m\u001b[43mse2\u001b[49m)\n",
      "\u001b[31mTypeError\u001b[39m: unsupported operand type(s) for +: 'set' and 'set'"
     ]
    }
   ],
   "source": [
    "print(se1 + se2)"
   ]
  },
  {
   "cell_type": "code",
   "execution_count": 80,
   "metadata": {},
   "outputs": [
    {
     "name": "stdout",
     "output_type": "stream",
     "text": [
      "{3}\n"
     ]
    }
   ],
   "source": [
    "print(se1 & se2)"
   ]
  },
  {
   "cell_type": "code",
   "execution_count": 81,
   "metadata": {},
   "outputs": [
    {
     "name": "stdout",
     "output_type": "stream",
     "text": [
      "{1, 2}\n"
     ]
    }
   ],
   "source": [
    "print(se1 - se2)"
   ]
  },
  {
   "cell_type": "markdown",
   "metadata": {},
   "source": [
    "## 예제 :\n",
    "- 1, 2, 3을 숫자형으로 리스트 (변수명 li1) 로 저장\n",
    "- 리스트 li1를 세트 (변수명 se1) 로 저장\n",
    "1. 세트 se1에 숫자 4 추가하기\n",
    "2. 세트 se1에 숫자 3 추가하기\n",
    "3. 세트 se1에 문자열 'a’ 추가하기\n"
   ]
  },
  {
   "cell_type": "code",
   "execution_count": 82,
   "metadata": {},
   "outputs": [],
   "source": [
    "li1 = [1, 2, 3]\n",
    "se1 = set(li1)"
   ]
  },
  {
   "cell_type": "code",
   "execution_count": 83,
   "metadata": {},
   "outputs": [],
   "source": [
    "se1.add(4)"
   ]
  },
  {
   "cell_type": "code",
   "execution_count": 84,
   "metadata": {},
   "outputs": [],
   "source": [
    "se1.add(3)"
   ]
  },
  {
   "cell_type": "code",
   "execution_count": 85,
   "metadata": {},
   "outputs": [],
   "source": [
    "se1.add('a')"
   ]
  },
  {
   "cell_type": "code",
   "execution_count": 87,
   "metadata": {},
   "outputs": [
    {
     "name": "stdout",
     "output_type": "stream",
     "text": [
      "{1, 2, 3}\n"
     ]
    }
   ],
   "source": [
    "print(se1)"
   ]
  },
  {
   "cell_type": "markdown",
   "metadata": {},
   "source": [
    "## 예제 :\n",
    "- 1, 2, 3을 숫자형으로 리스트 (변수명 li1) 로 저장\n",
    "- 리스트 li1를 세트 (변수명 se1) 로 저장\n",
    "- 3, 4, 5을 숫자형으로 리스트 (변수명 li2) 로 저장\n",
    "- 리스트 li2를 세트 (변수명 se2) 로 저장\n",
    "\n",
    "1.1. 세트 se1과 se2의 합집합을 se3에 저장\n",
    "\n",
    "1.2. 세트 se1과 se2 합친 결과 (update)를 se4에 저장 \n",
    "\n",
    "→se3와 se4 비교\n",
    "\n",
    "2.1. 세트 se1과 li2 합친 결과 (update)를 se5에 저장\n",
    "\n",
    "→se4와 se5 비교\n"
   ]
  },
  {
   "cell_type": "code",
   "execution_count": 99,
   "metadata": {},
   "outputs": [],
   "source": [
    "li1 = [1, 2, 3]\n",
    "se1 = set(li1)\n",
    "li2 = [3, 4, 5]\n",
    "se2 = set(li2)"
   ]
  },
  {
   "cell_type": "code",
   "execution_count": 100,
   "metadata": {},
   "outputs": [],
   "source": [
    "se3 = se1 | se2"
   ]
  },
  {
   "cell_type": "code",
   "execution_count": 101,
   "metadata": {},
   "outputs": [],
   "source": [
    "se4 = se1\n",
    "se4.update(se2)"
   ]
  },
  {
   "cell_type": "code",
   "execution_count": 102,
   "metadata": {},
   "outputs": [
    {
     "name": "stdout",
     "output_type": "stream",
     "text": [
      "{1, 2, 3, 4, 5}\n",
      "{1, 2, 3, 4, 5}\n"
     ]
    }
   ],
   "source": [
    "print(se3)\n",
    "print(se4)"
   ]
  },
  {
   "cell_type": "code",
   "execution_count": 103,
   "metadata": {},
   "outputs": [],
   "source": [
    "se5 = se1\n",
    "se5.update(li2)"
   ]
  },
  {
   "cell_type": "code",
   "execution_count": 104,
   "metadata": {},
   "outputs": [
    {
     "name": "stdout",
     "output_type": "stream",
     "text": [
      "{1, 2, 3, 4, 5}\n",
      "{1, 2, 3, 4, 5}\n"
     ]
    }
   ],
   "source": [
    "print(se4)\n",
    "print(se5)"
   ]
  },
  {
   "cell_type": "markdown",
   "metadata": {},
   "source": [
    "## 예제 :\n",
    "- 1, 2, 3을 숫자형으로 리스트 (변수명 li1) 로 저장\n",
    "- 리스트 li1를 세트 (변수명 se1) 로 저장\n",
    "- 3, 4, 5을 숫자형으로 리스트 (변수명 li2) 로 저장\n",
    "- 리스트 li2를 세트 (변수명 se2) 로 저장\n",
    "\n",
    "1.1. 세트 se1과 se2의 합집합을 se3에 저장\n",
    "\n",
    "1.2. 세트 se1과 se2의 교집합을 se4에 저장\n",
    "\n",
    "1.3. 세트 se3에서 se4 데이터 제거 → 결과?\n",
    "\n",
    " 1.4. 세트 se4를 리스트 (변수명 li3)로 변환\n",
    "\n",
    "1.5. 세트 se3에서 li3 데이터 제거 → 결과? \n",
    "\n",
    "1.6. 세트 se3에서 li3[0] 데이터 제거 → 결과?\n"
   ]
  },
  {
   "cell_type": "code",
   "execution_count": 105,
   "metadata": {},
   "outputs": [],
   "source": [
    "li1 = [1, 2, 3]\n",
    "se1 = set(li1)\n",
    "li2 = [3, 4, 5]\n",
    "se2 = set(li2)"
   ]
  },
  {
   "cell_type": "code",
   "execution_count": 106,
   "metadata": {},
   "outputs": [],
   "source": [
    "se3 = se1 | se2"
   ]
  },
  {
   "cell_type": "code",
   "execution_count": 107,
   "metadata": {},
   "outputs": [],
   "source": [
    "se4 = se1 & se2"
   ]
  },
  {
   "cell_type": "code",
   "execution_count": 108,
   "metadata": {},
   "outputs": [
    {
     "ename": "KeyError",
     "evalue": "{3}",
     "output_type": "error",
     "traceback": [
      "\u001b[31m---------------------------------------------------------------------------\u001b[39m",
      "\u001b[31mKeyError\u001b[39m                                  Traceback (most recent call last)",
      "\u001b[36mCell\u001b[39m\u001b[36m \u001b[39m\u001b[32mIn[108]\u001b[39m\u001b[32m, line 1\u001b[39m\n\u001b[32m----> \u001b[39m\u001b[32m1\u001b[39m \u001b[43mse3\u001b[49m\u001b[43m.\u001b[49m\u001b[43mremove\u001b[49m\u001b[43m(\u001b[49m\u001b[43mse4\u001b[49m\u001b[43m)\u001b[49m\n",
      "\u001b[31mKeyError\u001b[39m: {3}"
     ]
    }
   ],
   "source": [
    "se3.remove(se4)"
   ]
  },
  {
   "cell_type": "code",
   "execution_count": 109,
   "metadata": {},
   "outputs": [],
   "source": [
    "li3 = list(se4)"
   ]
  },
  {
   "cell_type": "code",
   "execution_count": 110,
   "metadata": {},
   "outputs": [
    {
     "ename": "TypeError",
     "evalue": "unhashable type: 'list'",
     "output_type": "error",
     "traceback": [
      "\u001b[31m---------------------------------------------------------------------------\u001b[39m",
      "\u001b[31mTypeError\u001b[39m                                 Traceback (most recent call last)",
      "\u001b[36mCell\u001b[39m\u001b[36m \u001b[39m\u001b[32mIn[110]\u001b[39m\u001b[32m, line 1\u001b[39m\n\u001b[32m----> \u001b[39m\u001b[32m1\u001b[39m \u001b[43mse3\u001b[49m\u001b[43m.\u001b[49m\u001b[43mremove\u001b[49m\u001b[43m(\u001b[49m\u001b[43mli3\u001b[49m\u001b[43m)\u001b[49m\n",
      "\u001b[31mTypeError\u001b[39m: unhashable type: 'list'"
     ]
    }
   ],
   "source": [
    "se3.remove(li3)"
   ]
  },
  {
   "cell_type": "code",
   "execution_count": 111,
   "metadata": {},
   "outputs": [],
   "source": [
    "se3.remove(li3[0])"
   ]
  },
  {
   "cell_type": "code",
   "execution_count": 112,
   "metadata": {},
   "outputs": [
    {
     "name": "stdout",
     "output_type": "stream",
     "text": [
      "{1, 2, 4, 5}\n"
     ]
    }
   ],
   "source": [
    "print(se3)"
   ]
  }
 ],
 "metadata": {
  "kernelspec": {
   "display_name": "Python 3",
   "language": "python",
   "name": "python3"
  },
  "language_info": {
   "codemirror_mode": {
    "name": "ipython",
    "version": 3
   },
   "file_extension": ".py",
   "mimetype": "text/x-python",
   "name": "python",
   "nbconvert_exporter": "python",
   "pygments_lexer": "ipython3",
   "version": "3.11.9"
  }
 },
 "nbformat": 4,
 "nbformat_minor": 2
}
