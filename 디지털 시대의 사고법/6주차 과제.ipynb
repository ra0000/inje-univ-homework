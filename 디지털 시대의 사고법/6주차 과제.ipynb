{
 "cells": [
  {
   "cell_type": "markdown",
   "metadata": {},
   "source": [
    "1. 빈 칸을 채워 아래 출력화면을 구현하세요."
   ]
  },
  {
   "cell_type": "code",
   "execution_count": 5,
   "metadata": {},
   "outputs": [
    {
     "name": "stdout",
     "output_type": "stream",
     "text": [
      "<class 'str'>\n",
      "홀수입니다.\n",
      "<class 'int'>\n"
     ]
    }
   ],
   "source": [
    "a = input(\"정수를 입력하세요: \")\n",
    "print(type(a))\n",
    "A = int(a)\n",
    "if A % 2 == 0:\n",
    "    print(\"짝수입니다.\")\n",
    "else:\n",
    "    print(\"홀수입니다.\")\n",
    "print(type(A))"
   ]
  },
  {
   "cell_type": "markdown",
   "metadata": {},
   "source": [
    "2. 빈 칸을 채워 아래 출력화면을 구현하세요."
   ]
  },
  {
   "cell_type": "code",
   "execution_count": 9,
   "metadata": {},
   "outputs": [
    {
     "name": "stdout",
     "output_type": "stream",
     "text": [
      "===========================\n",
      "\n",
      "===========================\n",
      "==== 파이썬 중간고사 결과 ====\n",
      "===========================\n",
      "전체 수강생 수: 3\n",
      "평균: 20\n",
      "분산: 66.66666666666667\n",
      "표준편차: 8.16496580927726\n"
     ]
    }
   ],
   "source": [
    "print(\"===========================\")\n",
    "scores = list(map(int, input(\"점수를 입력하세요: \").split()))\n",
    "import statistics\n",
    "mean, var, std = statistics.mean(scores), statistics.pvariance(scores), statistics.pstdev(scores)\n",
    "print()\n",
    "print(\"===========================\")\n",
    "print(\"==== 파이썬 중간고사 결과 ====\")\n",
    "print(\"===========================\")\n",
    "print(\"전체 수강생 수:\", 3)\n",
    "print(\"평균:\", mean)\n",
    "print(\"분산:\", var)\n",
    "print(\"표준편차:\", std)\n"
   ]
  },
  {
   "cell_type": "markdown",
   "metadata": {},
   "source": [
    "range() 연습\n",
    "-   0, 1, 2, 3, 4\n",
    "- 1, 2, 3, 4, 5, 6, 7, 8, 9, 10\n",
    "- 3, 6, 9\n",
    "- 5, 4, 3, 2, 1\n",
    "- 10, 5, 0, -5, -10"
   ]
  },
  {
   "cell_type": "code",
   "execution_count": 12,
   "metadata": {},
   "outputs": [
    {
     "name": "stdout",
     "output_type": "stream",
     "text": [
      "[0, 1, 2, 3, 4]\n",
      "[1, 2, 3, 4, 5, 6, 7, 8, 9, 10]\n",
      "[3, 6, 9]\n",
      "[5, 4, 3, 2, 1]\n",
      "[10, 5, 0, -5, -10]\n"
     ]
    }
   ],
   "source": [
    "print(list(range(5)))\n",
    "print(list(range(1, 11)))\n",
    "print(list(range(3, 10, 3)))\n",
    "print(list(range(5, 0, -1)))\n",
    "print(list(range(10, -11, -5)))"
   ]
  },
  {
   "cell_type": "markdown",
   "metadata": {},
   "source": [
    " 예제:\n",
    " - input 함수를 통해서 Life is too short을 입력 받고 공백을\n",
    "기준으로나누어A에리스트로저장하기\n",
    "- for 문을 이용해서 A의데이터를순차적으로출력하기\n"
   ]
  },
  {
   "cell_type": "code",
   "execution_count": 13,
   "metadata": {},
   "outputs": [
    {
     "name": "stdout",
     "output_type": "stream",
     "text": [
      "Life\n",
      "is\n",
      "too\n",
      "short\n"
     ]
    }
   ],
   "source": [
    "A = input(\"입력하세요: \").split()\n",
    "for a in A:\n",
    "    print(a)"
   ]
  },
  {
   "cell_type": "markdown",
   "metadata": {},
   "source": [
    "예제:\n",
    " - input 함수를 정수를 입력 받고 n에 저장\n",
    "- for문을 이용해서 1부터 n까지 순차적으로출력하기\n"
   ]
  },
  {
   "cell_type": "code",
   "execution_count": 17,
   "metadata": {},
   "outputs": [
    {
     "name": "stdout",
     "output_type": "stream",
     "text": [
      "1\n",
      "2\n",
      "3\n",
      "4\n",
      "5\n"
     ]
    }
   ],
   "source": [
    "n = int(input(\"정수를 입력하세요: \"))\n",
    "for i in range(1, n + 1):\n",
    "    print(i)"
   ]
  },
  {
   "cell_type": "markdown",
   "metadata": {},
   "source": [
    "- input 함수로 두개의정수를입력받고b > a 조건을\n",
    "만족하도록a와b에저장\n",
    "- for 문을 이용해서a부터b까지출력하기\n"
   ]
  },
  {
   "cell_type": "code",
   "execution_count": 26,
   "metadata": {},
   "outputs": [
    {
     "name": "stdout",
     "output_type": "stream",
     "text": [
      "3\n",
      "4\n",
      "5\n",
      "6\n"
     ]
    }
   ],
   "source": [
    "A, B = map(int, input(\"a b:\").split())\n",
    "if B > A:\n",
    "    a, b = A, B\n",
    "else:\n",
    "    a, b = B, A\n",
    "for i in range(a, b + 1):\n",
    "    print(i)"
   ]
  },
  {
   "cell_type": "markdown",
   "metadata": {},
   "source": [
    "# 실습1"
   ]
  },
  {
   "cell_type": "markdown",
   "metadata": {},
   "source": [
    " 1. input 함수를 통해 양의 정수 n을 입력 받고for문을 이용해서1~n까지합구하기\n",
    "  - ‘n을 입력하세요:’ 라는 문구로 n을입력\n",
    "  - format 메소드를 이용해서 `1부터 ??까지의 합은 ??이다‘ 라고 출력"
   ]
  },
  {
   "cell_type": "code",
   "execution_count": 28,
   "metadata": {},
   "outputs": [
    {
     "name": "stdout",
     "output_type": "stream",
     "text": [
      "1부터 10까지의 합은 55이다\n"
     ]
    }
   ],
   "source": [
    "n = int(input(\"n을 입력하세요:\"))\n",
    "n_sum = 0\n",
    "for i in range(1, n + 1):\n",
    "    n_sum += i\n",
    "print(\"1부터 {}까지의 합은 {}이다\".format(n, n_sum))"
   ]
  },
  {
   "cell_type": "markdown",
   "metadata": {},
   "source": [
    "2. input 함수를 통해 양의 정수 n을 입력 받고while문을 이용해서 1~n까지곱(n!) 구하기\n",
    "- ‘n을 입력하세요:’ 라는 문구로 n을입력\n",
    "- format 메소드를 이용해서 `1부터 ??까지의 곱은 ??이다‘ 라고 출력"
   ]
  },
  {
   "cell_type": "code",
   "execution_count": 31,
   "metadata": {},
   "outputs": [
    {
     "name": "stdout",
     "output_type": "stream",
     "text": [
      "1부터 10까지의 곱은 362880이다\n"
     ]
    }
   ],
   "source": [
    "n = int(input(\"n을 입력하세요:\"))\n",
    "i = 1\n",
    "n_fact = 1\n",
    "while n > i:\n",
    "    n_fact *= i\n",
    "    i += 1\n",
    "print(\"1부터 {}까지의 곱은 {}이다\".format(n, n_fact))"
   ]
  },
  {
   "cell_type": "markdown",
   "metadata": {},
   "source": [
    "3. input 함수와 while문을 통해 0을 입력할 때까지 반복해서 정수를 입력하고, 입력 받은\n",
    "정수들의합구하기\n",
    "- 예) 첫 번째 동작: ‘숫자를 입력하세요:’ 3\n",
    "두번째동작: ‘숫자를 입력하세요:’ 5\n",
    "세번째동작: ‘숫자를 입력하세요:’ 10\n",
    "네번째동작: ‘숫자를 입력하세요:’ 0\n",
    "결과\n",
    ": \n",
    "‘입력 받은수의합은18입니다’"
   ]
  },
  {
   "cell_type": "code",
   "execution_count": 34,
   "metadata": {},
   "outputs": [
    {
     "name": "stdout",
     "output_type": "stream",
     "text": [
      "입력 받은 수의 합은 18입니다\n"
     ]
    }
   ],
   "source": [
    "n = 1\n",
    "n_sum = 0\n",
    "while n > 0:\n",
    "    n = int(input(\"숫자를 입력하세요: \"))\n",
    "    n_sum += n\n",
    "print(\"입력 받은 수의 합은 {}입니다\".format(n_sum))"
   ]
  },
  {
   "cell_type": "markdown",
   "metadata": {},
   "source": [
    "# 실습2"
   ]
  },
  {
   "cell_type": "markdown",
   "metadata": {},
   "source": [
    "4. 양의 정수 a, b를 input 함수를 통해 입력 받아 b가 a의 약수인지 판별\n",
    "- ‘a와 b를 입력하세요:’ 라는 문구로a, b 입력 (map, split 메소드 활용)\n",
    "- a<b 인 경우 : ‘다시 입력해주세요’ 출력 후 a, b 값 재입력\n",
    "(재입력시 a<b인 경우에도반복적으로수행되어야함)\n",
    "- a>=b 인 경우: ‘??은 ??의 약수가 아닙니다.’ or ‘??은 ??의 약수가 맞습니다."
   ]
  },
  {
   "cell_type": "code",
   "execution_count": 45,
   "metadata": {},
   "outputs": [
    {
     "name": "stdout",
     "output_type": "stream",
     "text": [
      "다시 입력해주세요.\n",
      "다시 입력해주세요.\n",
      "5은 10의 약수가 맞습니다.\n"
     ]
    }
   ],
   "source": [
    "while True:\n",
    "    a, b = map(int, input(\"a와 b를 입력하세요: \").split())\n",
    "    if a < b:\n",
    "        print(\"다시 입력해주세요.\")\n",
    "    else:\n",
    "        break\n",
    "if (a % b == 0):\n",
    "    print(\"{}은 {}의 약수가 맞습니다.\".format(b, a))\n",
    "else:\n",
    "    print(\"{}은 {}의 약수가 아닙니다.\".format(a, b))\n"
   ]
  },
  {
   "cell_type": "markdown",
   "metadata": {},
   "source": [
    " 5. 양의 정수n을input 함수를 통해 입력 받아n의모든약수출력\n",
    " - ‘n을 입력하세요:’ 라는 문구로 n을입력\n",
    " - 리스트형태로약수출력"
   ]
  },
  {
   "cell_type": "code",
   "execution_count": 44,
   "metadata": {},
   "outputs": [
    {
     "name": "stdout",
     "output_type": "stream",
     "text": [
      "[1, 2, 5, 10, 13, 25, 26, 50, 65, 130, 325, 650]\n"
     ]
    }
   ],
   "source": [
    "n = int(input(\"n을 입력하세요: \"))\n",
    "div = list()\n",
    "for i in range(1, n + 1):\n",
    "    if n % i == 0:\n",
    "        div.append(i)\n",
    "print(div)"
   ]
  }
 ],
 "metadata": {
  "kernelspec": {
   "display_name": "Python 3",
   "language": "python",
   "name": "python3"
  },
  "language_info": {
   "codemirror_mode": {
    "name": "ipython",
    "version": 3
   },
   "file_extension": ".py",
   "mimetype": "text/x-python",
   "name": "python",
   "nbconvert_exporter": "python",
   "pygments_lexer": "ipython3",
   "version": "3.11.9"
  }
 },
 "nbformat": 4,
 "nbformat_minor": 2
}
